{
 "cells": [
  {
   "cell_type": "markdown",
   "metadata": {},
   "source": [
    "DICTIONARY\n",
    "dictionary is a data structure that stores the value in key: value pairs. Values in a dictionary can be of any data type and can be duplicated, whereas keys can’t be repeated and must be immutable."
   ]
  },
  {
   "cell_type": "code",
   "execution_count": 1,
   "metadata": {},
   "outputs": [
    {
     "name": "stdout",
     "output_type": "stream",
     "text": [
      "{1: 'Ram', 2: 'SEETA', 3: 'Shyam'}\n"
     ]
    }
   ],
   "source": [
    "#Creating Dictionary\n",
    "dictt={1:\"Ram\",2:\"SEETA\",3:\"Shyam\"}\n",
    "print(dictt)"
   ]
  },
  {
   "cell_type": "code",
   "execution_count": 4,
   "metadata": {},
   "outputs": [
    {
     "name": "stdout",
     "output_type": "stream",
     "text": [
      "Shyam\n",
      "SEETA\n",
      "{1: 'Ram', 2: 'SEETA', 3: 'Shyam'}\n"
     ]
    }
   ],
   "source": [
    "#ACCESSING DICTIONARY ITEM\n",
    "dictt={1:\"Ram\",2:\"SEETA\",3:\"Shyam\"}\n",
    "print(dictt[3])\n",
    "print(dictt.get(2))\n",
    "print(dictt)"
   ]
  },
  {
   "cell_type": "code",
   "execution_count": 5,
   "metadata": {},
   "outputs": [
    {
     "ename": "AttributeError",
     "evalue": "'dict' object has no attribute 'key'",
     "output_type": "error",
     "traceback": [
      "\u001b[31m---------------------------------------------------------------------------\u001b[39m",
      "\u001b[31mAttributeError\u001b[39m                            Traceback (most recent call last)",
      "\u001b[36mCell\u001b[39m\u001b[36m \u001b[39m\u001b[32mIn[5]\u001b[39m\u001b[32m, line 1\u001b[39m\n\u001b[32m----> \u001b[39m\u001b[32m1\u001b[39m \u001b[38;5;28mprint\u001b[39m(\u001b[43mdictt\u001b[49m\u001b[43m.\u001b[49m\u001b[43mkey\u001b[49m())\n\u001b[32m      2\u001b[39m \u001b[38;5;28mprint\u001b[39m(dictt.value())\n\u001b[32m      3\u001b[39m \u001b[38;5;28mprint\u001b[39m(dictt.items())\n",
      "\u001b[31mAttributeError\u001b[39m: 'dict' object has no attribute 'key'"
     ]
    }
   ],
   "source": [
    "print(dictt.key())\n",
    "print(dictt.value())\n",
    "print(dictt.items())"
   ]
  }
 ],
 "metadata": {
  "kernelspec": {
   "display_name": ".venv",
   "language": "python",
   "name": "python3"
  },
  "language_info": {
   "codemirror_mode": {
    "name": "ipython",
    "version": 3
   },
   "file_extension": ".py",
   "mimetype": "text/x-python",
   "name": "python",
   "nbconvert_exporter": "python",
   "pygments_lexer": "ipython3",
   "version": "3.12.7"
  }
 },
 "nbformat": 4,
 "nbformat_minor": 2
}

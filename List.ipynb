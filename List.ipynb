{
 "cells": [
  {
   "cell_type": "code",
   "execution_count": 1,
   "id": "fbe3072a",
   "metadata": {},
   "outputs": [
    {
     "name": "stdout",
     "output_type": "stream",
     "text": [
      "3\n"
     ]
    }
   ],
   "source": [
    "list=[1,2,3,4]\n",
    "#accessing the element from a list\n",
    "print(list[2])"
   ]
  },
  {
   "cell_type": "code",
   "execution_count": 10,
   "id": "98280e13",
   "metadata": {},
   "outputs": [
    {
     "name": "stdout",
     "output_type": "stream",
     "text": [
      "after appending [1, 2, 4, 9, 9, 9, 9, 9, 9, 9, 9, 10, 10, 10, 10, 10, 10, 10, 10, 11, 11, 11, 11, 11, 11, 11, 11, 11, 10, 9]\n",
      "[1, 2, 4, 9, 9, 9, 9, 9, 9, 9, 9, 9, 10, 10, 10, 10, 10, 10, 10, 10, 10, 11, 11, 11, 11, 11, 11, 11, 11, 11]\n",
      "[1, 2, 4, 9, 9, 9, 9, 9, 9, 9, 9, 9, 10, 10, 10, 10, 10, 10, 10, 10, 10, 11, 11, 11, 11, 11, 11, 11]\n"
     ]
    }
   ],
   "source": [
    "#list methods\n",
    "list.append(11)\n",
    "list.append(10)\n",
    "list.append(9)\n",
    "print(\"after appending\",list)\n",
    "list.sort()\n",
    "print(list)\n",
    "list.pop()\n",
    "list.remove(11)\n",
    "print(list)"
   ]
  },
  {
   "cell_type": "markdown",
   "id": "86e60839",
   "metadata": {},
   "source": [
    "##LIST Slicing\n",
    "Python list slicing is fundamental concept that let us easily access specific elements in a list."
   ]
  },
  {
   "cell_type": "code",
   "execution_count": null,
   "id": "ba8d89d4",
   "metadata": {},
   "outputs": [
    {
     "name": "stdout",
     "output_type": "stream",
     "text": [
      "[1, 2, 4, 9, 9, 9, 9, 9, 9, 9, 9, 9, 10, 10, 10, 10, 10, 10, 10, 10, 10, 11, 11, 11, 11, 11, 11, 11]\n",
      "[1, 2, 4, 9, 9, 9, 9, 9, 9, 9, 9, 9, 10, 10, 10, 10, 10, 10, 10, 10, 10, 11, 11, 11, 11, 11, 11, 11]\n",
      "[2, 4, 9]\n",
      "[11, 11, 11, 11, 11, 11, 11, 10, 10, 10, 10, 10, 10, 10, 10, 10, 9, 9, 9, 9, 9, 9, 9, 9, 9, 4, 2, 1]\n"
     ]
    }
   ],
   "source": [
    "## Get all elements in the list\n",
    "print(list[::])\n",
    "print(list[:])\n",
    "\n",
    "## Get elements from index 1 \n",
    "# to index 4 (excluding index 4)\n",
    "b=list[1:4]\n",
    "print(b)\n",
    "\n",
    "#Get reverse of list\n",
    "print(list[::-1])"
   ]
  }
 ],
 "metadata": {
  "kernelspec": {
   "display_name": "myenv",
   "language": "python",
   "name": "python3"
  },
  "language_info": {
   "codemirror_mode": {
    "name": "ipython",
    "version": 3
   },
   "file_extension": ".py",
   "mimetype": "text/x-python",
   "name": "python",
   "nbconvert_exporter": "python",
   "pygments_lexer": "ipython3",
   "version": "3.10.13"
  }
 },
 "nbformat": 4,
 "nbformat_minor": 5
}

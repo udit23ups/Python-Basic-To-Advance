{
 "cells": [
  {
   "cell_type": "markdown",
   "metadata": {},
   "source": [
    "FILE HANDLING\n",
    "File handling refers to the process of performing operations on a file such as creating, opening, reading, writing and closing it, through a programming interface. It involves managing the data flow between the program and the file system on the storage device, ensuring that data is handled safely and efficiently."
   ]
  },
  {
   "cell_type": "code",
   "execution_count": null,
   "metadata": {},
   "outputs": [],
   "source": [
    "#Writing to a file in Write mode (w)(override previous file)\n",
    "with open('example.txt','w') as file:\n",
    "    file.write(\"my name is -\\n\")\n",
    "    file.write(\"my hobbies are\")"
   ]
  },
  {
   "cell_type": "code",
   "execution_count": 8,
   "metadata": {},
   "outputs": [],
   "source": [
    "#writing to a file in Append mode(a)(add to previous )\n",
    "file=open('example.txt','a')\n",
    "file.write(\"\\nI love to watch movies\\n\")\n",
    "lines=['first line''\\n','second ''\\n','third line']\n",
    "file.writelines(lines)\n",
    "file.close()"
   ]
  },
  {
   "cell_type": "code",
   "execution_count": 12,
   "metadata": {},
   "outputs": [],
   "source": [
    "#writng to a binary files\n",
    "with open('example2.bin','w') as file:\n",
    "   lines=\"2+3\"\n",
    "   file.write(lines)"
   ]
  }
 ],
 "metadata": {
  "kernelspec": {
   "display_name": ".venv",
   "language": "python",
   "name": "python3"
  },
  "language_info": {
   "codemirror_mode": {
    "name": "ipython",
    "version": 3
   },
   "file_extension": ".py",
   "mimetype": "text/x-python",
   "name": "python",
   "nbconvert_exporter": "python",
   "pygments_lexer": "ipython3",
   "version": "3.12.7"
  }
 },
 "nbformat": 4,
 "nbformat_minor": 2
}

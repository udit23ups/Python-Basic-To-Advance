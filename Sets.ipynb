{
 "cells": [
  {
   "cell_type": "markdown",
   "id": "324bdf7f",
   "metadata": {},
   "source": [
    "A Set in Python is used to store a collection of items with the following properties.\n",
    "\n",
    "No duplicate elements. If try to insert the same item again, it overwrites previous one.\n",
    "\n",
    "An unordered collection. When we access all items, they are accessed without any specific order and we cannot access items using indexes as we do in lists.\n",
    "\n",
    "Internally use hashing that makes set efficient for search, insert and delete operations. It gives a major advantage over a list for problems with these operations.\n",
    "\n",
    "Mutable, meaning we can add or remove elements after their creation, the individual elements within the set cannot be changed directly."
   ]
  },
  {
   "cell_type": "code",
   "execution_count": null,
   "id": "91ea3e77",
   "metadata": {},
   "outputs": [
    {
     "name": "stdout",
     "output_type": "stream",
     "text": [
      "{1, 2, 3, 4}\n",
      "<class 'set'>\n",
      "{1, 2, 3, 4, '5'}\n",
      "5\n",
      "{'A', 'C', 'B'}\n"
     ]
    }
   ],
   "source": [
    "s1={1,2,3,4}\n",
    "print(s1)\n",
    "print(type(s1))\n",
    "\n",
    "#Adding element to the set\n",
    "s1.add(\"5\")\n",
    "print(s1)\n",
    "\n",
    "#Get the Length of a set\n",
    "print(\"length is\",len(s1))\n",
    "\n",
    "#typecasting list to set\n",
    "s=set([\"A\",\"B\",\"C\"])\n",
    "print(s)\n"
   ]
  },
  {
   "cell_type": "markdown",
   "id": "747fa190",
   "metadata": {},
   "source": [
    "#Frozen Set \n",
    "A frozenset in Python is an immutable version of a regular set. While set is mutable and does not allow hashable elements like being dictionary keys, frozenset is hashable, so it can be used as a key in dictionaries or as elements in other sets.\n",
    "\n",
    "frozenset([iterable])\n",
    "\n"
   ]
  },
  {
   "cell_type": "code",
   "execution_count": 3,
   "id": "8102ed2c",
   "metadata": {},
   "outputs": [
    {
     "name": "stdout",
     "output_type": "stream",
     "text": [
      "frozenset({1, 2, 3, 4})\n"
     ]
    }
   ],
   "source": [
    "#Create a frozen set\n",
    "fs=frozenset([1,2,3,4])\n",
    "print(fs)"
   ]
  },
  {
   "cell_type": "markdown",
   "id": "b1f0e518",
   "metadata": {},
   "source": [
    "##Membership Test\n",
    "You can use the in and not in operators to check if an element exists in a frozenset.\n",
    "\n",
    "element in frozenset_object\n",
    "element not in frozenset_object"
   ]
  },
  {
   "cell_type": "code",
   "execution_count": 4,
   "id": "fdf88379",
   "metadata": {},
   "outputs": [
    {
     "name": "stdout",
     "output_type": "stream",
     "text": [
      "True\n",
      "False\n",
      "False\n"
     ]
    }
   ],
   "source": [
    "print(3 in fs)\n",
    "print(6 in fs)\n",
    "print(2 not in fs)"
   ]
  },
  {
   "cell_type": "code",
   "execution_count": 9,
   "id": "347c5bbe",
   "metadata": {},
   "outputs": [
    {
     "name": "stdout",
     "output_type": "stream",
     "text": [
      "union {1, 2, 3, 4, 5, 6, 8}\n",
      "{1, 2, 3, 4, 5, 6, 8}\n",
      "intersection {2, 4}\n",
      "{2, 4}\n",
      "\n",
      "difference {1, 3, 5}\n",
      "{1, 3, 5}\n",
      "\n",
      "symmetric diff {1, 3, 5, 6, 8}\n",
      "{1, 3, 5, 6, 8}\n",
      "\n",
      "subset False\n",
      " False\n",
      "\n",
      "proper subset False\n",
      "\n",
      "superset False\n",
      "False\n",
      "\n",
      "proper superset False\n",
      "\n",
      "disjoint False\n"
     ]
    }
   ],
   "source": [
    "#set operation\n",
    "s2={1,2,3,4,5}\n",
    "s3={2,4,6,8}\n",
    "\n",
    "#UNION\n",
    "print(\"union\",s2|s3)\n",
    "print(s2.union(s3))\n",
    "\n",
    "# INTERSECTION\n",
    "print(\"intersection\",s2&s3)\n",
    "print(s2.intersection(s3))\n",
    "\n",
    "#DIFFERENCE\n",
    "print( \"\\ndifference\",s2-s3)\n",
    "print(s2.difference(s3))\n",
    "\n",
    "# Symmetric diffrence\n",
    "print(\"\\nsymmetric diff\",s2^s3)\n",
    "print(s2.symmetric_difference(s3))\n",
    "\n",
    "#SUbset test\n",
    "print(\"\\nsubset\",s2<=s3)\n",
    "print(\"\",s2.issubset(s3))\n",
    "\n",
    "#proper subset\n",
    "print(\"\\nproper subset\",s2<s3,)\n",
    "\n",
    "#Superset \n",
    "print(\"\\nsuperset\",s2>=s3)\n",
    "print(s2.issuperset(s3))\n",
    "\n",
    "#proper superset\n",
    "print(\"\\nproper superset\",s2>s3)\n",
    "\n",
    "#DISjoint set\n",
    "print(\"\\ndisjoint\",s2.isdisjoint(s3)) \n"
   ]
  }
 ],
 "metadata": {
  "kernelspec": {
   "display_name": "myenv",
   "language": "python",
   "name": "python3"
  },
  "language_info": {
   "codemirror_mode": {
    "name": "ipython",
    "version": 3
   },
   "file_extension": ".py",
   "mimetype": "text/x-python",
   "name": "python",
   "nbconvert_exporter": "python",
   "pygments_lexer": "ipython3",
   "version": "3.10.13"
  }
 },
 "nbformat": 4,
 "nbformat_minor": 5
}
